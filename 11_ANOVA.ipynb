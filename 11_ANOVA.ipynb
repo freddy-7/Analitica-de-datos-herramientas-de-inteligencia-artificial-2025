{
  "cells": [
    {
      "cell_type": "markdown",
      "metadata": {
        "colab_type": "text",
        "id": "view-in-github"
      },
      "source": [
        "<a href=\"https://colab.research.google.com/github/freddy-7/TI3002C/blob/main/10_ANOVA.ipynb\" target=\"_parent\"><img src=\"https://colab.research.google.com/assets/colab-badge.svg\" alt=\"Open In Colab\"/></a>"
      ]
    },
    {
      "cell_type": "code",
      "execution_count": null,
      "metadata": {},
      "outputs": [],
      "source": [
        "%pip install statsmodels"
      ]
    },
    {
      "cell_type": "code",
      "execution_count": 3,
      "metadata": {
        "id": "EHqGlKnPB1IL"
      },
      "outputs": [],
      "source": [
        "#Cargamos librerias\n",
        "import pandas as pd\n",
        "import numpy as np\n",
        "import matplotlib.pyplot as plt\n",
        "import seaborn as sns\n",
        "import statsmodels.api as sm\n",
        "from statsmodels.formula.api import ols\n",
        "from scipy import stats"
      ]
    },
    {
      "cell_type": "code",
      "execution_count": null,
      "metadata": {
        "colab": {
          "base_uri": "https://localhost:8080/",
          "height": 740
        },
        "id": "9bmR0lPXB8iN",
        "outputId": "dfaec232-0a5d-4da4-8d19-9324356a35eb"
      },
      "outputs": [],
      "source": [
        "#Cargar archivo csv desde seaborn\n",
        "df=sns.load_dataset(name='titanic')\n",
        "df.head(20)"
      ]
    },
    {
      "cell_type": "code",
      "execution_count": null,
      "metadata": {
        "id": "LFClD8NPCEgd"
      },
      "outputs": [],
      "source": [
        "#Rellenamos nulos\n",
        "df =df.fillna(method=\"bfill\")\n",
        "df =df.fillna(method=\"ffill\")\n",
        "df =df.fillna(method=\"bfill\")"
      ]
    },
    {
      "cell_type": "code",
      "execution_count": 8,
      "metadata": {
        "colab": {
          "base_uri": "https://localhost:8080/"
        },
        "id": "8D8Atyqnp9QB",
        "outputId": "709864ef-551b-4968-b133-a94f45a17156"
      },
      "outputs": [
        {
          "data": {
            "text/plain": [
              "survived       0\n",
              "pclass         0\n",
              "sex            0\n",
              "age            0\n",
              "sibsp          0\n",
              "parch          0\n",
              "fare           0\n",
              "embarked       0\n",
              "class          0\n",
              "who            0\n",
              "adult_male     0\n",
              "deck           0\n",
              "embark_town    0\n",
              "alive          0\n",
              "alone          0\n",
              "dtype: int64"
            ]
          },
          "execution_count": 8,
          "metadata": {},
          "output_type": "execute_result"
        }
      ],
      "source": [
        "\n",
        "#Identificar valores nulos por columna\n",
        "valores_nulos=df.isnull().sum()\n",
        "valores_nulos"
      ]
    },
    {
      "cell_type": "code",
      "execution_count": 17,
      "metadata": {
        "colab": {
          "base_uri": "https://localhost:8080/",
          "height": 495
        },
        "id": "aX8WATSzDGWz",
        "outputId": "5bf68897-90c0-4403-e187-596a3290855c"
      },
      "outputs": [
        {
          "data": {
            "text/plain": [
              "<Axes: title={'center': 'fare'}, xlabel='pclass'>"
            ]
          },
          "execution_count": 17,
          "metadata": {},
          "output_type": "execute_result"
        },
        {
          "data": {
            "image/png": "[encoded data removed]",
            "text/plain": [
              "<Figure size 640x480 with 1 Axes>"
            ]
          },
          "metadata": {},
          "output_type": "display_data"
        }
      ],
      "source": [
        "#Analizamos los diagrama de caja de la variable objetivo \"tarifa\" por cada categoria \n",
        "# de la variable independiente \"sex\"\n",
        "df.boxplot(\"fare\", by= \"pclass\")"
      ]
    },
    {
      "cell_type": "code",
      "execution_count": 10,
      "metadata": {
        "colab": {
          "base_uri": "https://localhost:8080/"
        },
        "id": "x67jJbJxEBq6",
        "outputId": "75707a8c-4304-4dc2-d342-fe94f4366eb8"
      },
      "outputs": [
        {
          "data": {
            "text/plain": [
              "array(['male', 'female'], dtype=object)"
            ]
          },
          "execution_count": 10,
          "metadata": {},
          "output_type": "execute_result"
        }
      ],
      "source": [
        "#Obtengo las categorías de la variable (sex)\n",
        "grupos=pd.unique(df['sex'].values)\n",
        "grupos"
      ]
    },
    {
      "cell_type": "markdown",
      "metadata": {
        "id": "ngiMd24OoF4R"
      },
      "source": [
        "**SCIPY ONEWAY (ANOVA)**"
      ]
    },
    {
      "cell_type": "code",
      "execution_count": 12,
      "metadata": {
        "id": "m7zi7yHjoOg1"
      },
      "outputs": [],
      "source": [
        "#Defino grupos donde me entrega la columna Fare separada por grupos de las \n",
        "#categorías de la columna sex: \"male\" y \"female\" \n",
        "Fare_1= df.fare[df.sex=='male']\n",
        "Fare_2= df.fare[df.sex=='female']\n"
      ]
    },
    {
      "cell_type": "code",
      "execution_count": 14,
      "metadata": {
        "colab": {
          "base_uri": "https://localhost:8080/"
        },
        "id": "Xquqowo1pYHQ",
        "outputId": "4a41aa1e-eda4-41d1-ee71-bc347621f174"
      },
      "outputs": [
        {
          "data": {
            "text/plain": [
              "F_onewayResult(statistic=np.float64(30.57139211854278), pvalue=np.float64(4.230867870041279e-08))"
            ]
          },
          "execution_count": 14,
          "metadata": {},
          "output_type": "execute_result"
        }
      ],
      "source": [
        "#p-value < 0.05, se rechaza la hipótesis de que todas las medias son iguales\n",
        "#p-value < 0.05, implica que la variable categórica influye en la variable \n",
        "# cuantitativa\n",
        "anova= stats.f_oneway(Fare_1, Fare_2)\n",
        "anova"
      ]
    },
    {
      "cell_type": "markdown",
      "metadata": {
        "id": "UmfQz4Wmn_AP"
      },
      "source": [
        "**STATESMODELS (ANOVA)**"
      ]
    },
    {
      "cell_type": "code",
      "execution_count": 16,
      "metadata": {
        "colab": {
          "base_uri": "https://localhost:8080/"
        },
        "id": "PKvv-_QLGwTW",
        "outputId": "21de3d1c-c167-459c-a395-17e32caa4226"
      },
      "outputs": [
        {
          "name": "stdout",
          "output_type": "stream",
          "text": [
            "             df        sum_sq       mean_sq          F        PR(>F)\n",
            "sex         1.0  7.306640e+04  73066.397308  30.571392  4.230868e-08\n",
            "Residual  889.0  2.124732e+06   2390.025192        NaN           NaN\n"
          ]
        }
      ],
      "source": [
        "#p-value < 0.05, se rechaza la hipótesis de que todas las medias son iguales\n",
        "mod= ols('fare ~ sex', data=df).fit()\n",
        "anova_table=sm.stats.anova_lm(mod, typ=1)\n",
        "print (anova_table)"
      ]
    },
    {
      "cell_type": "code",
      "execution_count": 24,
      "metadata": {},
      "outputs": [
        {
          "name": "stdout",
          "output_type": "stream",
          "text": [
            "               df        sum_sq        mean_sq           F        PR(>F)\n",
            "sex           1.0  7.306640e+04   73066.397308   44.352450  4.805283e-11\n",
            "pclass        1.0  6.175508e+05  617550.791669  374.863021  6.244332e-70\n",
            "sex:pclass    1.0  4.593437e+04   45934.370325   27.882884  1.621976e-07\n",
            "Residual    887.0  1.461247e+06    1647.403871         NaN           NaN\n"
          ]
        }
      ],
      "source": [
        "#p-value < 0.05, se rechaza la hipótesis de que todas las medias son iguales\n",
        "# Se puede generar un analisis MANOVA (Múltiples variables categóricas)\n",
        "mod= ols('fare ~ sex + pclass + sex:pclass', data=df).fit()\n",
        "anova_table=sm.stats.anova_lm(mod, typ=1)\n",
        "print (anova_table)"
      ]
    }
  ],
  "metadata": {
    "colab": {
      "authorship_tag": "ABX9TyM5cYRAGWT5+6vAPth1voSu",
      "include_colab_link": true,
      "provenance": []
    },
    "kernelspec": {
      "display_name": "Python 3",
      "name": "python3"
    },
    "language_info": {
      "codemirror_mode": {
        "name": "ipython",
        "version": 3
      },
      "file_extension": ".py",
      "mimetype": "text/x-python",
      "name": "python",
      "nbconvert_exporter": "python",
      "pygments_lexer": "ipython3",
      "version": "3.13.2"
    }
  },
  "nbformat": 4,
  "nbformat_minor": 0
}
