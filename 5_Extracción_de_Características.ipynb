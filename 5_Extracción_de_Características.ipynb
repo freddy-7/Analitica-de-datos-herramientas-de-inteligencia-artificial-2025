{
  "cells": [
    {
      "cell_type": "markdown",
      "metadata": {
        "colab_type": "text",
        "id": "view-in-github"
      },
      "source": [
        "<a href=\"https://colab.research.google.com/github/freddy-7/TI3002C/blob/main/5_Extracci%C3%B3n_de_Caracter%C3%ADsticas.ipynb\" target=\"_parent\"><img src=\"https://colab.research.google.com/assets/colab-badge.svg\" alt=\"Open In Colab\"/></a>"
      ]
    },
    {
      "cell_type": "code",
      "execution_count": 1,
      "metadata": {
        "id": "5hR4S6MuRmnB"
      },
      "outputs": [
        {
          "name": "stdout",
          "output_type": "stream",
          "text": [
            "Requirement already satisfied: funpymodeling in c:\\users\\alfre\\appdata\\local\\programs\\python\\python312\\lib\\site-packages (0.1.9)\n",
            "Requirement already satisfied: flake8<7.0.0,>=6.0.0 in c:\\users\\alfre\\appdata\\local\\programs\\python\\python312\\lib\\site-packages (from funpymodeling) (6.1.0)\n",
            "Requirement already satisfied: jupyter<2.0.0,>=1.0.0 in c:\\users\\alfre\\appdata\\local\\programs\\python\\python312\\lib\\site-packages (from funpymodeling) (1.0.0)\n",
            "Requirement already satisfied: matplotlib<4.0.0,>=3.7.1 in c:\\users\\alfre\\appdata\\local\\programs\\python\\python312\\lib\\site-packages (from funpymodeling) (3.9.0)\n",
            "Requirement already satisfied: numpy<2.0.0,>=1.26.2 in c:\\users\\alfre\\appdata\\local\\programs\\python\\python312\\lib\\site-packages (from funpymodeling) (1.26.4)\n",
            "Requirement already satisfied: pandas<3.0.0,>=2.1.4 in c:\\users\\alfre\\appdata\\local\\programs\\python\\python312\\lib\\site-packages (from funpymodeling) (2.2.2)\n",
            "Requirement already satisfied: pre-commit<4.0.0,>=3.3.2 in c:\\users\\alfre\\appdata\\local\\programs\\python\\python312\\lib\\site-packages (from funpymodeling) (3.8.0)\n",
            "Requirement already satisfied: pytest<8.0.0,>=7.3.1 in c:\\users\\alfre\\appdata\\local\\programs\\python\\python312\\lib\\site-packages (from funpymodeling) (7.4.4)\n",
            "Requirement already satisfied: scikit-learn<2.0.0,>=1.2.2 in c:\\users\\alfre\\appdata\\local\\programs\\python\\python312\\lib\\site-packages (from funpymodeling) (1.5.1)\n",
            "Requirement already satisfied: seaborn<0.13.0,>=0.12.2 in c:\\users\\alfre\\appdata\\local\\programs\\python\\python312\\lib\\site-packages (from funpymodeling) (0.12.2)\n",
            "Requirement already satisfied: typing-extensions<5.0.0,>=4.6.3 in c:\\users\\alfre\\appdata\\local\\programs\\python\\python312\\lib\\site-packages (from funpymodeling) (4.12.2)\n",
            "Requirement already satisfied: mccabe<0.8.0,>=0.7.0 in c:\\users\\alfre\\appdata\\local\\programs\\python\\python312\\lib\\site-packages (from flake8<7.0.0,>=6.0.0->funpymodeling) (0.7.0)\n",
            "Requirement already satisfied: pycodestyle<2.12.0,>=2.11.0 in c:\\users\\alfre\\appdata\\local\\programs\\python\\python312\\lib\\site-packages (from flake8<7.0.0,>=6.0.0->funpymodeling) (2.11.1)\n",
            "Requirement already satisfied: pyflakes<3.2.0,>=3.1.0 in c:\\users\\alfre\\appdata\\local\\programs\\python\\python312\\lib\\site-packages (from flake8<7.0.0,>=6.0.0->funpymodeling) (3.1.0)\n",
            "Requirement already satisfied: notebook in c:\\users\\alfre\\appdata\\local\\programs\\python\\python312\\lib\\site-packages (from jupyter<2.0.0,>=1.0.0->funpymodeling) (7.2.1)\n",
            "Requirement already satisfied: qtconsole in c:\\users\\alfre\\appdata\\local\\programs\\python\\python312\\lib\\site-packages (from jupyter<2.0.0,>=1.0.0->funpymodeling) (5.5.2)\n",
            "Requirement already satisfied: jupyter-console in c:\\users\\alfre\\appdata\\local\\programs\\python\\python312\\lib\\site-packages (from jupyter<2.0.0,>=1.0.0->funpymodeling) (6.6.3)\n",
            "Requirement already satisfied: nbconvert in c:\\users\\alfre\\appdata\\local\\programs\\python\\python312\\lib\\site-packages (from jupyter<2.0.0,>=1.0.0->funpymodeling) (7.16.4)\n",
            "Requirement already satisfied: ipykernel in c:\\users\\alfre\\appdata\\roaming\\python\\python312\\site-packages (from jupyter<2.0.0,>=1.0.0->funpymodeling) (6.29.5)\n",
            "Requirement already satisfied: ipywidgets in c:\\users\\alfre\\appdata\\local\\programs\\python\\python312\\lib\\site-packages (from jupyter<2.0.0,>=1.0.0->funpymodeling) (8.1.5)\n",
            "Requirement already satisfied: contourpy>=1.0.1 in c:\\users\\alfre\\appdata\\local\\programs\\python\\python312\\lib\\site-packages (from matplotlib<4.0.0,>=3.7.1->funpymodeling) (1.2.1)\n",
            "Requirement already satisfied: cycler>=0.10 in c:\\users\\alfre\\appdata\\local\\programs\\python\\python312\\lib\\site-packages (from matplotlib<4.0.0,>=3.7.1->funpymodeling) (0.12.1)\n",
            "Requirement already satisfied: fonttools>=4.22.0 in c:\\users\\alfre\\appdata\\local\\programs\\python\\python312\\lib\\site-packages (from matplotlib<4.0.0,>=3.7.1->funpymodeling) (4.53.1)\n",
            "Requirement already satisfied: kiwisolver>=1.3.1 in c:\\users\\alfre\\appdata\\local\\programs\\python\\python312\\lib\\site-packages (from matplotlib<4.0.0,>=3.7.1->funpymodeling) (1.4.5)\n",
            "Requirement already satisfied: packaging>=20.0 in c:\\users\\alfre\\appdata\\roaming\\python\\python312\\site-packages (from matplotlib<4.0.0,>=3.7.1->funpymodeling) (24.1)\n",
            "Requirement already satisfied: pillow>=8 in c:\\users\\alfre\\appdata\\local\\programs\\python\\python312\\lib\\site-packages (from matplotlib<4.0.0,>=3.7.1->funpymodeling) (10.4.0)\n",
            "Requirement already satisfied: pyparsing>=2.3.1 in c:\\users\\alfre\\appdata\\local\\programs\\python\\python312\\lib\\site-packages (from matplotlib<4.0.0,>=3.7.1->funpymodeling) (3.1.2)\n",
            "Requirement already satisfied: python-dateutil>=2.7 in c:\\users\\alfre\\appdata\\local\\programs\\python\\python312\\lib\\site-packages (from matplotlib<4.0.0,>=3.7.1->funpymodeling) (2.9.0.post0)\n",
            "Requirement already satisfied: pytz>=2020.1 in c:\\users\\alfre\\appdata\\local\\programs\\python\\python312\\lib\\site-packages (from pandas<3.0.0,>=2.1.4->funpymodeling) (2024.1)\n",
            "Requirement already satisfied: tzdata>=2022.7 in c:\\users\\alfre\\appdata\\local\\programs\\python\\python312\\lib\\site-packages (from pandas<3.0.0,>=2.1.4->funpymodeling) (2024.1)\n",
            "Requirement already satisfied: cfgv>=2.0.0 in c:\\users\\alfre\\appdata\\local\\programs\\python\\python312\\lib\\site-packages (from pre-commit<4.0.0,>=3.3.2->funpymodeling) (3.4.0)\n",
            "Requirement already satisfied: identify>=1.0.0 in c:\\users\\alfre\\appdata\\local\\programs\\python\\python312\\lib\\site-packages (from pre-commit<4.0.0,>=3.3.2->funpymodeling) (2.6.0)\n",
            "Requirement already satisfied: nodeenv>=0.11.1 in c:\\users\\alfre\\appdata\\local\\programs\\python\\python312\\lib\\site-packages (from pre-commit<4.0.0,>=3.3.2->funpymodeling) (1.9.1)\n",
            "Requirement already satisfied: pyyaml>=5.1 in c:\\users\\alfre\\appdata\\local\\programs\\python\\python312\\lib\\site-packages (from pre-commit<4.0.0,>=3.3.2->funpymodeling) (6.0.2)\n",
            "Requirement already satisfied: virtualenv>=20.10.0 in c:\\users\\alfre\\appdata\\local\\programs\\python\\python312\\lib\\site-packages (from pre-commit<4.0.0,>=3.3.2->funpymodeling) (20.26.3)\n",
            "Requirement already satisfied: iniconfig in c:\\users\\alfre\\appdata\\local\\programs\\python\\python312\\lib\\site-packages (from pytest<8.0.0,>=7.3.1->funpymodeling) (2.0.0)\n",
            "Requirement already satisfied: pluggy<2.0,>=0.12 in c:\\users\\alfre\\appdata\\local\\programs\\python\\python312\\lib\\site-packages (from pytest<8.0.0,>=7.3.1->funpymodeling) (1.5.0)\n",
            "Requirement already satisfied: colorama in c:\\users\\alfre\\appdata\\roaming\\python\\python312\\site-packages (from pytest<8.0.0,>=7.3.1->funpymodeling) (0.4.6)\n",
            "Requirement already satisfied: scipy>=1.6.0 in c:\\users\\alfre\\appdata\\local\\programs\\python\\python312\\lib\\site-packages (from scikit-learn<2.0.0,>=1.2.2->funpymodeling) (1.14.1)\n",
            "Requirement already satisfied: joblib>=1.2.0 in c:\\users\\alfre\\appdata\\local\\programs\\python\\python312\\lib\\site-packages (from scikit-learn<2.0.0,>=1.2.2->funpymodeling) (1.4.2)\n",
            "Requirement already satisfied: threadpoolctl>=3.1.0 in c:\\users\\alfre\\appdata\\local\\programs\\python\\python312\\lib\\site-packages (from scikit-learn<2.0.0,>=1.2.2->funpymodeling) (3.5.0)\n",
            "Requirement already satisfied: six>=1.5 in c:\\users\\alfre\\appdata\\local\\programs\\python\\python312\\lib\\site-packages (from python-dateutil>=2.7->matplotlib<4.0.0,>=3.7.1->funpymodeling) (1.16.0)\n",
            "Requirement already satisfied: distlib<1,>=0.3.7 in c:\\users\\alfre\\appdata\\local\\programs\\python\\python312\\lib\\site-packages (from virtualenv>=20.10.0->pre-commit<4.0.0,>=3.3.2->funpymodeling) (0.3.8)\n",
            "Requirement already satisfied: filelock<4,>=3.12.2 in c:\\users\\alfre\\appdata\\local\\programs\\python\\python312\\lib\\site-packages (from virtualenv>=20.10.0->pre-commit<4.0.0,>=3.3.2->funpymodeling) (3.15.4)\n",
            "Requirement already satisfied: platformdirs<5,>=3.9.1 in c:\\users\\alfre\\appdata\\roaming\\python\\python312\\site-packages (from virtualenv>=20.10.0->pre-commit<4.0.0,>=3.3.2->funpymodeling) (4.2.2)\n",
            "Requirement already satisfied: comm>=0.1.1 in c:\\users\\alfre\\appdata\\roaming\\python\\python312\\site-packages (from ipykernel->jupyter<2.0.0,>=1.0.0->funpymodeling) (0.2.2)\n",
            "Requirement already satisfied: debugpy>=1.6.5 in c:\\users\\alfre\\appdata\\roaming\\python\\python312\\site-packages (from ipykernel->jupyter<2.0.0,>=1.0.0->funpymodeling) (1.8.5)\n",
            "Requirement already satisfied: ipython>=7.23.1 in c:\\users\\alfre\\appdata\\roaming\\python\\python312\\site-packages (from ipykernel->jupyter<2.0.0,>=1.0.0->funpymodeling) (8.26.0)\n",
            "Requirement already satisfied: jupyter-client>=6.1.12 in c:\\users\\alfre\\appdata\\roaming\\python\\python312\\site-packages (from ipykernel->jupyter<2.0.0,>=1.0.0->funpymodeling) (8.6.2)\n",
            "Requirement already satisfied: jupyter-core!=5.0.*,>=4.12 in c:\\users\\alfre\\appdata\\roaming\\python\\python312\\site-packages (from ipykernel->jupyter<2.0.0,>=1.0.0->funpymodeling) (5.7.2)\n",
            "Requirement already satisfied: matplotlib-inline>=0.1 in c:\\users\\alfre\\appdata\\roaming\\python\\python312\\site-packages (from ipykernel->jupyter<2.0.0,>=1.0.0->funpymodeling) (0.1.7)\n",
            "Requirement already satisfied: nest-asyncio in c:\\users\\alfre\\appdata\\roaming\\python\\python312\\site-packages (from ipykernel->jupyter<2.0.0,>=1.0.0->funpymodeling) (1.6.0)\n",
            "Requirement already satisfied: psutil in c:\\users\\alfre\\appdata\\roaming\\python\\python312\\site-packages (from ipykernel->jupyter<2.0.0,>=1.0.0->funpymodeling) (6.0.0)\n",
            "Requirement already satisfied: pyzmq>=24 in c:\\users\\alfre\\appdata\\roaming\\python\\python312\\site-packages (from ipykernel->jupyter<2.0.0,>=1.0.0->funpymodeling) (26.1.0)\n",
            "Requirement already satisfied: tornado>=6.1 in c:\\users\\alfre\\appdata\\roaming\\python\\python312\\site-packages (from ipykernel->jupyter<2.0.0,>=1.0.0->funpymodeling) (6.4.1)\n",
            "Requirement already satisfied: traitlets>=5.4.0 in c:\\users\\alfre\\appdata\\roaming\\python\\python312\\site-packages (from ipykernel->jupyter<2.0.0,>=1.0.0->funpymodeling) (5.14.3)\n",
            "Requirement already satisfied: widgetsnbextension~=4.0.12 in c:\\users\\alfre\\appdata\\local\\programs\\python\\python312\\lib\\site-packages (from ipywidgets->jupyter<2.0.0,>=1.0.0->funpymodeling) (4.0.13)\n",
            "Requirement already satisfied: jupyterlab-widgets~=3.0.12 in c:\\users\\alfre\\appdata\\local\\programs\\python\\python312\\lib\\site-packages (from ipywidgets->jupyter<2.0.0,>=1.0.0->funpymodeling) (3.0.13)\n",
            "Requirement already satisfied: prompt-toolkit>=3.0.30 in c:\\users\\alfre\\appdata\\roaming\\python\\python312\\site-packages (from jupyter-console->jupyter<2.0.0,>=1.0.0->funpymodeling) (3.0.47)\n",
            "Requirement already satisfied: pygments in c:\\users\\alfre\\appdata\\roaming\\python\\python312\\site-packages (from jupyter-console->jupyter<2.0.0,>=1.0.0->funpymodeling) (2.18.0)\n",
            "Requirement already satisfied: beautifulsoup4 in c:\\users\\alfre\\appdata\\local\\programs\\python\\python312\\lib\\site-packages (from nbconvert->jupyter<2.0.0,>=1.0.0->funpymodeling) (4.12.3)\n",
            "Requirement already satisfied: bleach!=5.0.0 in c:\\users\\alfre\\appdata\\local\\programs\\python\\python312\\lib\\site-packages (from nbconvert->jupyter<2.0.0,>=1.0.0->funpymodeling) (6.1.0)\n",
            "Requirement already satisfied: defusedxml in c:\\users\\alfre\\appdata\\local\\programs\\python\\python312\\lib\\site-packages (from nbconvert->jupyter<2.0.0,>=1.0.0->funpymodeling) (0.7.1)\n",
            "Requirement already satisfied: jinja2>=3.0 in c:\\users\\alfre\\appdata\\local\\programs\\python\\python312\\lib\\site-packages (from nbconvert->jupyter<2.0.0,>=1.0.0->funpymodeling) (3.1.4)\n",
            "Requirement already satisfied: jupyterlab-pygments in c:\\users\\alfre\\appdata\\local\\programs\\python\\python312\\lib\\site-packages (from nbconvert->jupyter<2.0.0,>=1.0.0->funpymodeling) (0.3.0)\n",
            "Requirement already satisfied: markupsafe>=2.0 in c:\\users\\alfre\\appdata\\local\\programs\\python\\python312\\lib\\site-packages (from nbconvert->jupyter<2.0.0,>=1.0.0->funpymodeling) (2.1.5)\n",
            "Requirement already satisfied: mistune<4,>=2.0.3 in c:\\users\\alfre\\appdata\\local\\programs\\python\\python312\\lib\\site-packages (from nbconvert->jupyter<2.0.0,>=1.0.0->funpymodeling) (3.0.2)\n",
            "Requirement already satisfied: nbclient>=0.5.0 in c:\\users\\alfre\\appdata\\local\\programs\\python\\python312\\lib\\site-packages (from nbconvert->jupyter<2.0.0,>=1.0.0->funpymodeling) (0.10.0)\n",
            "Requirement already satisfied: nbformat>=5.7 in c:\\users\\alfre\\appdata\\local\\programs\\python\\python312\\lib\\site-packages (from nbconvert->jupyter<2.0.0,>=1.0.0->funpymodeling) (5.10.4)\n",
            "Requirement already satisfied: pandocfilters>=1.4.1 in c:\\users\\alfre\\appdata\\local\\programs\\python\\python312\\lib\\site-packages (from nbconvert->jupyter<2.0.0,>=1.0.0->funpymodeling) (1.5.1)\n",
            "Requirement already satisfied: tinycss2 in c:\\users\\alfre\\appdata\\local\\programs\\python\\python312\\lib\\site-packages (from nbconvert->jupyter<2.0.0,>=1.0.0->funpymodeling) (1.3.0)\n",
            "Requirement already satisfied: jupyter-server<3,>=2.4.0 in c:\\users\\alfre\\appdata\\local\\programs\\python\\python312\\lib\\site-packages (from notebook->jupyter<2.0.0,>=1.0.0->funpymodeling) (2.14.2)\n",
            "Requirement already satisfied: jupyterlab-server<3,>=2.27.1 in c:\\users\\alfre\\appdata\\local\\programs\\python\\python312\\lib\\site-packages (from notebook->jupyter<2.0.0,>=1.0.0->funpymodeling) (2.27.3)\n",
            "Requirement already satisfied: jupyterlab<4.3,>=4.2.0 in c:\\users\\alfre\\appdata\\local\\programs\\python\\python312\\lib\\site-packages (from notebook->jupyter<2.0.0,>=1.0.0->funpymodeling) (4.2.4)\n",
            "Requirement already satisfied: notebook-shim<0.3,>=0.2 in c:\\users\\alfre\\appdata\\local\\programs\\python\\python312\\lib\\site-packages (from notebook->jupyter<2.0.0,>=1.0.0->funpymodeling) (0.2.4)\n",
            "Requirement already satisfied: qtpy>=2.4.0 in c:\\users\\alfre\\appdata\\local\\programs\\python\\python312\\lib\\site-packages (from qtconsole->jupyter<2.0.0,>=1.0.0->funpymodeling) (2.4.1)\n",
            "Requirement already satisfied: webencodings in c:\\users\\alfre\\appdata\\local\\programs\\python\\python312\\lib\\site-packages (from bleach!=5.0.0->nbconvert->jupyter<2.0.0,>=1.0.0->funpymodeling) (0.5.1)\n",
            "Requirement already satisfied: decorator in c:\\users\\alfre\\appdata\\roaming\\python\\python312\\site-packages (from ipython>=7.23.1->ipykernel->jupyter<2.0.0,>=1.0.0->funpymodeling) (5.1.1)\n",
            "Requirement already satisfied: jedi>=0.16 in c:\\users\\alfre\\appdata\\roaming\\python\\python312\\site-packages (from ipython>=7.23.1->ipykernel->jupyter<2.0.0,>=1.0.0->funpymodeling) (0.19.1)\n",
            "Requirement already satisfied: stack-data in c:\\users\\alfre\\appdata\\roaming\\python\\python312\\site-packages (from ipython>=7.23.1->ipykernel->jupyter<2.0.0,>=1.0.0->funpymodeling) (0.6.3)\n",
            "Requirement already satisfied: pywin32>=300 in c:\\users\\alfre\\appdata\\roaming\\python\\python312\\site-packages (from jupyter-core!=5.0.*,>=4.12->ipykernel->jupyter<2.0.0,>=1.0.0->funpymodeling) (306)\n",
            "Requirement already satisfied: anyio>=3.1.0 in c:\\users\\alfre\\appdata\\local\\programs\\python\\python312\\lib\\site-packages (from jupyter-server<3,>=2.4.0->notebook->jupyter<2.0.0,>=1.0.0->funpymodeling) (4.4.0)\n",
            "Requirement already satisfied: argon2-cffi>=21.1 in c:\\users\\alfre\\appdata\\local\\programs\\python\\python312\\lib\\site-packages (from jupyter-server<3,>=2.4.0->notebook->jupyter<2.0.0,>=1.0.0->funpymodeling) (23.1.0)\n",
            "Requirement already satisfied: jupyter-events>=0.9.0 in c:\\users\\alfre\\appdata\\local\\programs\\python\\python312\\lib\\site-packages (from jupyter-server<3,>=2.4.0->notebook->jupyter<2.0.0,>=1.0.0->funpymodeling) (0.10.0)\n",
            "Requirement already satisfied: jupyter-server-terminals>=0.4.4 in c:\\users\\alfre\\appdata\\local\\programs\\python\\python312\\lib\\site-packages (from jupyter-server<3,>=2.4.0->notebook->jupyter<2.0.0,>=1.0.0->funpymodeling) (0.5.3)\n",
            "Requirement already satisfied: overrides>=5.0 in c:\\users\\alfre\\appdata\\local\\programs\\python\\python312\\lib\\site-packages (from jupyter-server<3,>=2.4.0->notebook->jupyter<2.0.0,>=1.0.0->funpymodeling) (7.7.0)\n",
            "Requirement already satisfied: prometheus-client>=0.9 in c:\\users\\alfre\\appdata\\local\\programs\\python\\python312\\lib\\site-packages (from jupyter-server<3,>=2.4.0->notebook->jupyter<2.0.0,>=1.0.0->funpymodeling) (0.20.0)\n",
            "Requirement already satisfied: pywinpty>=2.0.1 in c:\\users\\alfre\\appdata\\local\\programs\\python\\python312\\lib\\site-packages (from jupyter-server<3,>=2.4.0->notebook->jupyter<2.0.0,>=1.0.0->funpymodeling) (2.0.13)\n",
            "Requirement already satisfied: send2trash>=1.8.2 in c:\\users\\alfre\\appdata\\local\\programs\\python\\python312\\lib\\site-packages (from jupyter-server<3,>=2.4.0->notebook->jupyter<2.0.0,>=1.0.0->funpymodeling) (1.8.3)\n",
            "Requirement already satisfied: terminado>=0.8.3 in c:\\users\\alfre\\appdata\\local\\programs\\python\\python312\\lib\\site-packages (from jupyter-server<3,>=2.4.0->notebook->jupyter<2.0.0,>=1.0.0->funpymodeling) (0.18.1)\n",
            "Requirement already satisfied: websocket-client>=1.7 in c:\\users\\alfre\\appdata\\local\\programs\\python\\python312\\lib\\site-packages (from jupyter-server<3,>=2.4.0->notebook->jupyter<2.0.0,>=1.0.0->funpymodeling) (1.8.0)\n",
            "Requirement already satisfied: async-lru>=1.0.0 in c:\\users\\alfre\\appdata\\local\\programs\\python\\python312\\lib\\site-packages (from jupyterlab<4.3,>=4.2.0->notebook->jupyter<2.0.0,>=1.0.0->funpymodeling) (2.0.4)\n",
            "Requirement already satisfied: httpx>=0.25.0 in c:\\users\\alfre\\appdata\\local\\programs\\python\\python312\\lib\\site-packages (from jupyterlab<4.3,>=4.2.0->notebook->jupyter<2.0.0,>=1.0.0->funpymodeling) (0.27.0)\n",
            "Requirement already satisfied: jupyter-lsp>=2.0.0 in c:\\users\\alfre\\appdata\\local\\programs\\python\\python312\\lib\\site-packages (from jupyterlab<4.3,>=4.2.0->notebook->jupyter<2.0.0,>=1.0.0->funpymodeling) (2.2.5)\n",
            "Requirement already satisfied: setuptools>=40.1.0 in c:\\users\\alfre\\appdata\\local\\programs\\python\\python312\\lib\\site-packages (from jupyterlab<4.3,>=4.2.0->notebook->jupyter<2.0.0,>=1.0.0->funpymodeling) (73.0.1)\n",
            "Requirement already satisfied: babel>=2.10 in c:\\users\\alfre\\appdata\\local\\programs\\python\\python312\\lib\\site-packages (from jupyterlab-server<3,>=2.27.1->notebook->jupyter<2.0.0,>=1.0.0->funpymodeling) (2.16.0)\n",
            "Requirement already satisfied: json5>=0.9.0 in c:\\users\\alfre\\appdata\\local\\programs\\python\\python312\\lib\\site-packages (from jupyterlab-server<3,>=2.27.1->notebook->jupyter<2.0.0,>=1.0.0->funpymodeling) (0.9.25)\n",
            "Requirement already satisfied: jsonschema>=4.18.0 in c:\\users\\alfre\\appdata\\local\\programs\\python\\python312\\lib\\site-packages (from jupyterlab-server<3,>=2.27.1->notebook->jupyter<2.0.0,>=1.0.0->funpymodeling) (4.23.0)\n",
            "Requirement already satisfied: requests>=2.31 in c:\\users\\alfre\\appdata\\local\\programs\\python\\python312\\lib\\site-packages (from jupyterlab-server<3,>=2.27.1->notebook->jupyter<2.0.0,>=1.0.0->funpymodeling) (2.32.3)\n",
            "Requirement already satisfied: fastjsonschema>=2.15 in c:\\users\\alfre\\appdata\\local\\programs\\python\\python312\\lib\\site-packages (from nbformat>=5.7->nbconvert->jupyter<2.0.0,>=1.0.0->funpymodeling) (2.20.0)\n",
            "Requirement already satisfied: wcwidth in c:\\users\\alfre\\appdata\\roaming\\python\\python312\\site-packages (from prompt-toolkit>=3.0.30->jupyter-console->jupyter<2.0.0,>=1.0.0->funpymodeling) (0.2.13)\n",
            "Requirement already satisfied: soupsieve>1.2 in c:\\users\\alfre\\appdata\\local\\programs\\python\\python312\\lib\\site-packages (from beautifulsoup4->nbconvert->jupyter<2.0.0,>=1.0.0->funpymodeling) (2.6)\n",
            "Requirement already satisfied: idna>=2.8 in c:\\users\\alfre\\appdata\\local\\programs\\python\\python312\\lib\\site-packages (from anyio>=3.1.0->jupyter-server<3,>=2.4.0->notebook->jupyter<2.0.0,>=1.0.0->funpymodeling) (3.7)\n",
            "Requirement already satisfied: sniffio>=1.1 in c:\\users\\alfre\\appdata\\local\\programs\\python\\python312\\lib\\site-packages (from anyio>=3.1.0->jupyter-server<3,>=2.4.0->notebook->jupyter<2.0.0,>=1.0.0->funpymodeling) (1.3.1)\n",
            "Requirement already satisfied: argon2-cffi-bindings in c:\\users\\alfre\\appdata\\local\\programs\\python\\python312\\lib\\site-packages (from argon2-cffi>=21.1->jupyter-server<3,>=2.4.0->notebook->jupyter<2.0.0,>=1.0.0->funpymodeling) (21.2.0)\n",
            "Requirement already satisfied: certifi in c:\\users\\alfre\\appdata\\local\\programs\\python\\python312\\lib\\site-packages (from httpx>=0.25.0->jupyterlab<4.3,>=4.2.0->notebook->jupyter<2.0.0,>=1.0.0->funpymodeling) (2024.7.4)\n",
            "Requirement already satisfied: httpcore==1.* in c:\\users\\alfre\\appdata\\local\\programs\\python\\python312\\lib\\site-packages (from httpx>=0.25.0->jupyterlab<4.3,>=4.2.0->notebook->jupyter<2.0.0,>=1.0.0->funpymodeling) (1.0.5)\n",
            "Requirement already satisfied: h11<0.15,>=0.13 in c:\\users\\alfre\\appdata\\local\\programs\\python\\python312\\lib\\site-packages (from httpcore==1.*->httpx>=0.25.0->jupyterlab<4.3,>=4.2.0->notebook->jupyter<2.0.0,>=1.0.0->funpymodeling) (0.14.0)\n",
            "Requirement already satisfied: parso<0.9.0,>=0.8.3 in c:\\users\\alfre\\appdata\\roaming\\python\\python312\\site-packages (from jedi>=0.16->ipython>=7.23.1->ipykernel->jupyter<2.0.0,>=1.0.0->funpymodeling) (0.8.4)\n",
            "Requirement already satisfied: attrs>=22.2.0 in c:\\users\\alfre\\appdata\\local\\programs\\python\\python312\\lib\\site-packages (from jsonschema>=4.18.0->jupyterlab-server<3,>=2.27.1->notebook->jupyter<2.0.0,>=1.0.0->funpymodeling) (24.2.0)\n",
            "Requirement already satisfied: jsonschema-specifications>=2023.03.6 in c:\\users\\alfre\\appdata\\local\\programs\\python\\python312\\lib\\site-packages (from jsonschema>=4.18.0->jupyterlab-server<3,>=2.27.1->notebook->jupyter<2.0.0,>=1.0.0->funpymodeling) (2023.12.1)\n",
            "Requirement already satisfied: referencing>=0.28.4 in c:\\users\\alfre\\appdata\\local\\programs\\python\\python312\\lib\\site-packages (from jsonschema>=4.18.0->jupyterlab-server<3,>=2.27.1->notebook->jupyter<2.0.0,>=1.0.0->funpymodeling) (0.35.1)\n",
            "Requirement already satisfied: rpds-py>=0.7.1 in c:\\users\\alfre\\appdata\\local\\programs\\python\\python312\\lib\\site-packages (from jsonschema>=4.18.0->jupyterlab-server<3,>=2.27.1->notebook->jupyter<2.0.0,>=1.0.0->funpymodeling) (0.20.0)\n",
            "Requirement already satisfied: python-json-logger>=2.0.4 in c:\\users\\alfre\\appdata\\local\\programs\\python\\python312\\lib\\site-packages (from jupyter-events>=0.9.0->jupyter-server<3,>=2.4.0->notebook->jupyter<2.0.0,>=1.0.0->funpymodeling) (2.0.7)\n",
            "Requirement already satisfied: rfc3339-validator in c:\\users\\alfre\\appdata\\local\\programs\\python\\python312\\lib\\site-packages (from jupyter-events>=0.9.0->jupyter-server<3,>=2.4.0->notebook->jupyter<2.0.0,>=1.0.0->funpymodeling) (0.1.4)\n",
            "Requirement already satisfied: rfc3986-validator>=0.1.1 in c:\\users\\alfre\\appdata\\local\\programs\\python\\python312\\lib\\site-packages (from jupyter-events>=0.9.0->jupyter-server<3,>=2.4.0->notebook->jupyter<2.0.0,>=1.0.0->funpymodeling) (0.1.1)\n",
            "Requirement already satisfied: charset-normalizer<4,>=2 in c:\\users\\alfre\\appdata\\local\\programs\\python\\python312\\lib\\site-packages (from requests>=2.31->jupyterlab-server<3,>=2.27.1->notebook->jupyter<2.0.0,>=1.0.0->funpymodeling) (3.3.2)\n",
            "Requirement already satisfied: urllib3<3,>=1.21.1 in c:\\users\\alfre\\appdata\\local\\programs\\python\\python312\\lib\\site-packages (from requests>=2.31->jupyterlab-server<3,>=2.27.1->notebook->jupyter<2.0.0,>=1.0.0->funpymodeling) (2.2.2)\n",
            "Requirement already satisfied: executing>=1.2.0 in c:\\users\\alfre\\appdata\\roaming\\python\\python312\\site-packages (from stack-data->ipython>=7.23.1->ipykernel->jupyter<2.0.0,>=1.0.0->funpymodeling) (2.0.1)\n",
            "Requirement already satisfied: asttokens>=2.1.0 in c:\\users\\alfre\\appdata\\roaming\\python\\python312\\site-packages (from stack-data->ipython>=7.23.1->ipykernel->jupyter<2.0.0,>=1.0.0->funpymodeling) (2.4.1)\n",
            "Requirement already satisfied: pure-eval in c:\\users\\alfre\\appdata\\roaming\\python\\python312\\site-packages (from stack-data->ipython>=7.23.1->ipykernel->jupyter<2.0.0,>=1.0.0->funpymodeling) (0.2.3)\n",
            "Requirement already satisfied: fqdn in c:\\users\\alfre\\appdata\\local\\programs\\python\\python312\\lib\\site-packages (from jsonschema[format-nongpl]>=4.18.0->jupyter-events>=0.9.0->jupyter-server<3,>=2.4.0->notebook->jupyter<2.0.0,>=1.0.0->funpymodeling) (1.5.1)\n",
            "Requirement already satisfied: isoduration in c:\\users\\alfre\\appdata\\local\\programs\\python\\python312\\lib\\site-packages (from jsonschema[format-nongpl]>=4.18.0->jupyter-events>=0.9.0->jupyter-server<3,>=2.4.0->notebook->jupyter<2.0.0,>=1.0.0->funpymodeling) (20.11.0)\n",
            "Requirement already satisfied: jsonpointer>1.13 in c:\\users\\alfre\\appdata\\local\\programs\\python\\python312\\lib\\site-packages (from jsonschema[format-nongpl]>=4.18.0->jupyter-events>=0.9.0->jupyter-server<3,>=2.4.0->notebook->jupyter<2.0.0,>=1.0.0->funpymodeling) (3.0.0)\n",
            "Requirement already satisfied: uri-template in c:\\users\\alfre\\appdata\\local\\programs\\python\\python312\\lib\\site-packages (from jsonschema[format-nongpl]>=4.18.0->jupyter-events>=0.9.0->jupyter-server<3,>=2.4.0->notebook->jupyter<2.0.0,>=1.0.0->funpymodeling) (1.3.0)\n",
            "Requirement already satisfied: webcolors>=24.6.0 in c:\\users\\alfre\\appdata\\local\\programs\\python\\python312\\lib\\site-packages (from jsonschema[format-nongpl]>=4.18.0->jupyter-events>=0.9.0->jupyter-server<3,>=2.4.0->notebook->jupyter<2.0.0,>=1.0.0->funpymodeling) (24.8.0)\n",
            "Requirement already satisfied: cffi>=1.0.1 in c:\\users\\alfre\\appdata\\local\\programs\\python\\python312\\lib\\site-packages (from argon2-cffi-bindings->argon2-cffi>=21.1->jupyter-server<3,>=2.4.0->notebook->jupyter<2.0.0,>=1.0.0->funpymodeling) (1.17.0)\n",
            "Requirement already satisfied: pycparser in c:\\users\\alfre\\appdata\\local\\programs\\python\\python312\\lib\\site-packages (from cffi>=1.0.1->argon2-cffi-bindings->argon2-cffi>=21.1->jupyter-server<3,>=2.4.0->notebook->jupyter<2.0.0,>=1.0.0->funpymodeling) (2.22)\n",
            "Requirement already satisfied: arrow>=0.15.0 in c:\\users\\alfre\\appdata\\local\\programs\\python\\python312\\lib\\site-packages (from isoduration->jsonschema[format-nongpl]>=4.18.0->jupyter-events>=0.9.0->jupyter-server<3,>=2.4.0->notebook->jupyter<2.0.0,>=1.0.0->funpymodeling) (1.3.0)\n",
            "Requirement already satisfied: types-python-dateutil>=2.8.10 in c:\\users\\alfre\\appdata\\local\\programs\\python\\python312\\lib\\site-packages (from arrow>=0.15.0->isoduration->jsonschema[format-nongpl]>=4.18.0->jupyter-events>=0.9.0->jupyter-server<3,>=2.4.0->notebook->jupyter<2.0.0,>=1.0.0->funpymodeling) (2.9.0.20240821)\n",
            "Note: you may need to restart the kernel to use updated packages.\n"
          ]
        },
        {
          "name": "stderr",
          "output_type": "stream",
          "text": [
            "\n",
            "[notice] A new release of pip is available: 24.2 -> 25.0.1\n",
            "[notice] To update, run: python.exe -m pip install --upgrade pip\n"
          ]
        }
      ],
      "source": [
        "#Instalamos librería para análisis de variables categóricas\n",
        "%pip install funpymodeling"
      ]
    },
    {
      "cell_type": "code",
      "execution_count": 2,
      "metadata": {
        "id": "KBvqPLFySzaI"
      },
      "outputs": [],
      "source": [
        "#Importamos las librerias pandas, numpy y matplotlib respectivamente\n",
        "import pandas as pd\n",
        "import numpy as np\n",
        "import matplotlib.pyplot as plt\n",
        "from funpymodeling.exploratory import freq_tbl "
      ]
    },
    {
      "cell_type": "code",
      "execution_count": null,
      "metadata": {
        "id": "EbINkdpcS03f"
      },
      "outputs": [],
      "source": [
        "#Cargar archivo csv desde equipo\n",
        "from google.colab import files\n",
        "files.upload()"
      ]
    },
    {
      "cell_type": "code",
      "execution_count": null,
      "metadata": {},
      "outputs": [],
      "source": [
        "%pip install openpyxl"
      ]
    },
    {
      "cell_type": "code",
      "execution_count": 3,
      "metadata": {
        "id": "jXyYdUiSTJAe"
      },
      "outputs": [],
      "source": [
        "#Carga desde un archivo .xlsx sin indice\n",
        "Micro_Retailer= pd.read_excel('microretailer_mit_lift_lab.xlsx') "
      ]
    },
    {
      "cell_type": "code",
      "execution_count": 5,
      "metadata": {
        "colab": {
          "base_uri": "https://localhost:8080/"
        },
        "id": "pqHhJArjTVP3",
        "outputId": "a7ee30c0-12f6-4a9f-8b58-c29e433154dc"
      },
      "outputs": [
        {
          "name": "stdout",
          "output_type": "stream",
          "text": [
            "<class 'pandas.core.frame.DataFrame'>\n",
            "RangeIndex: 171 entries, 0 to 170\n",
            "Columns: 106 entries, _record_id to 235_email\n",
            "dtypes: float64(23), int64(2), object(81)\n",
            "memory usage: 141.7+ KB\n"
          ]
        }
      ],
      "source": [
        "#Verificamos información del DataFrame\n",
        "Micro_Retailer.info()"
      ]
    },
    {
      "cell_type": "code",
      "execution_count": null,
      "metadata": {
        "colab": {
          "base_uri": "https://localhost:8080/",
          "height": 525
        },
        "id": "vyjGnKI4Tqvl",
        "outputId": "d7c23770-df23-4570-d9cb-6440bfd985ec"
      },
      "outputs": [],
      "source": [
        "#Imprimo los primeros 5 registro del dataframe\n",
        "Micro_Retailer.head()"
      ]
    },
    {
      "cell_type": "code",
      "execution_count": null,
      "metadata": {
        "id": "1Ff43X1qT4KU"
      },
      "outputs": [],
      "source": [
        "#Obtengo un análisis univariado de las variables categóricas\n",
        "freq_tbl(Micro_Retailer)"
      ]
    },
    {
      "cell_type": "code",
      "execution_count": null,
      "metadata": {
        "colab": {
          "base_uri": "https://localhost:8080/",
          "height": 457
        },
        "id": "e75mpJ6AVfw0",
        "outputId": "76494d46-8dfb-42be-c725-1dccd16a4db7"
      },
      "outputs": [],
      "source": [
        "#Obtengo un análisis univariado de una variable categórica en específico\n",
        "table1= freq_tbl(Micro_Retailer['214_customer_relationship_tools'])\n",
        "table1"
      ]
    },
    {
      "cell_type": "code",
      "execution_count": null,
      "metadata": {},
      "outputs": [],
      "source": [
        "#Elimino las columnas \"percentage\" y \"cumulative_perc\" para trabajar con las frecuencias\n",
        "table2= table1.drop(['percentage','cumulative_perc'], axis=1)\n",
        "table2"
      ]
    },
    {
      "cell_type": "code",
      "execution_count": null,
      "metadata": {
        "colab": {
          "base_uri": "https://localhost:8080/",
          "height": 206
        },
        "id": "HBrncXHSXKJZ",
        "outputId": "c9459ea8-f0e7-44b0-85bc-d60a424485d5"
      },
      "outputs": [],
      "source": [
        "#Obtengo un filtro de los valores más reelevantes de la variables categórica seleccionada\n",
        "Filtro= table2[table2['frequency']>1]\n",
        "Filtro"
      ]
    },
    {
      "cell_type": "code",
      "execution_count": null,
      "metadata": {
        "colab": {
          "base_uri": "https://localhost:8080/",
          "height": 237
        },
        "id": "aK1m_EA9XP3Y",
        "outputId": "bb1ba9e6-0532-4c3a-a11d-aa36b164c1cb"
      },
      "outputs": [],
      "source": [
        "#Ajusto el indice de mi dataframe\n",
        "Filtro_index= Filtro.set_index('214_customer_relationship_tools')\n",
        "Filtro_index"
      ]
    },
    {
      "cell_type": "code",
      "execution_count": 14,
      "metadata": {
        "colab": {
          "base_uri": "https://localhost:8080/",
          "height": 633
        },
        "id": "glFrKFfxXWeg",
        "outputId": "21e6c6f2-8c35-42ac-8915-ffe0559ca107"
      },
      "outputs": [
        {
          "data": {
            "text/plain": [
              "Text(0, 0.5, 'Frecuencia')"
            ]
          },
          "execution_count": 14,
          "metadata": {},
          "output_type": "execute_result"
        },
        {
          "data": {
            "image/png": "[encoded data removed]",
            "text/plain": [
              "<Figure size 1000x400 with 1 Axes>"
            ]
          },
          "metadata": {},
          "output_type": "display_data"
        }
      ],
      "source": [
        "#Realizamos grafico de barras del dataframe filtrado\n",
        "Filtro_index.plot(kind = 'bar', width=0.8, figsize=(10,4), color= \"red\")\n",
        "plt.title('Herramientas de relación con los clientes')\n",
        "plt.xlabel('Tipo de Herramienta')\n",
        "plt.ylabel('Frecuencia')"
      ]
    },
    {
      "cell_type": "code",
      "execution_count": 10,
      "metadata": {
        "colab": {
          "base_uri": "https://localhost:8080/",
          "height": 466
        },
        "id": "NfKInhzGXeui",
        "outputId": "e67f8829-58a6-4fd7-b8ed-cacb94de43da"
      },
      "outputs": [
        {
          "data": {
            "text/plain": [
              "<Axes: xlabel='frequency', ylabel='cumulative_perc'>"
            ]
          },
          "execution_count": 10,
          "metadata": {},
          "output_type": "execute_result"
        },
        {
          "data": {
            "image/png": "[encoded data removed]",
            "text/plain": [
              "<Figure size 640x480 with 1 Axes>"
            ]
          },
          "metadata": {},
          "output_type": "display_data"
        }
      ],
      "source": [
        "#Realizamos grafico de dispersión del dataframe filtrado\n",
        "table1.plot(\"frequency\", \"cumulative_perc\", kind=\"scatter\")"
      ]
    },
    {
      "cell_type": "code",
      "execution_count": null,
      "metadata": {
        "colab": {
          "base_uri": "https://localhost:8080/",
          "height": 405
        },
        "id": "WkpKLeOgXhwU",
        "outputId": "685e024b-acc2-4603-b6fd-5b350b361e08"
      },
      "outputs": [],
      "source": [
        "#Realizamos grafico de área del dataframe filtrado\n",
        "Filtro_index.plot(kind='area', figsize=(10,4),alpha = 0.5)"
      ]
    },
    {
      "cell_type": "code",
      "execution_count": null,
      "metadata": {
        "colab": {
          "base_uri": "https://localhost:8080/",
          "height": 439
        },
        "id": "bcs_yH_TXmqo",
        "outputId": "44c5c3e5-9830-424f-ad58-2903d4854bdc"
      },
      "outputs": [],
      "source": [
        "#Realizamos grafico de pastel del dataframe filtrado\n",
        "Filtro_index[\"frequency\"].plot(kind='pie', figsize=(10,5), shadow=True, autopct=\"%0.1f %%\")"
      ]
    },
    {
      "cell_type": "code",
      "execution_count": 13,
      "metadata": {
        "colab": {
          "base_uri": "https://localhost:8080/",
          "height": 487
        },
        "id": "ZpptbfxuXurG",
        "outputId": "890c7089-2464-4dd5-8900-2ecc054bf306"
      },
      "outputs": [
        {
          "data": {
            "text/plain": [
              "<Axes: xlabel='frequency', ylabel='cumulative_perc'>"
            ]
          },
          "execution_count": 13,
          "metadata": {},
          "output_type": "execute_result"
        },
        {
          "data": {
            "image/png": "[encoded data removed]",
            "text/plain": [
              "<Figure size 1000x500 with 2 Axes>"
            ]
          },
          "metadata": {},
          "output_type": "display_data"
        }
      ],
      "source": [
        "#Realizamos grafico hexagonal del dataframe filtrado, alternativo al scatter plot\n",
        "table1.plot.hexbin(\"frequency\", \"cumulative_perc\", figsize=(10,5))"
      ]
    },
    {
      "cell_type": "markdown",
      "metadata": {},
      "source": [
        "**Determinación de Clases para datos agrupados**\n"
      ]
    },
    {
      "cell_type": "code",
      "execution_count": 17,
      "metadata": {},
      "outputs": [],
      "source": [
        "# Ajustar maximo de filas\n",
        "pd.options.display.max_rows = None"
      ]
    },
    {
      "cell_type": "code",
      "execution_count": null,
      "metadata": {},
      "outputs": [],
      "source": [
        "#Corroboramos valores nulos\n",
        "valores_nulos=Micro_Retailer.isnull().sum()\n",
        "valores_nulos"
      ]
    },
    {
      "cell_type": "code",
      "execution_count": null,
      "metadata": {},
      "outputs": [],
      "source": [
        "#Calculamos el numero total de la población \"n\"\n",
        "Micro_Retailer['_latitude']. info()\n",
        "n=171"
      ]
    },
    {
      "cell_type": "code",
      "execution_count": 20,
      "metadata": {},
      "outputs": [
        {
          "data": {
            "text/plain": [
              "[18.9993095, 19.0752733]"
            ]
          },
          "execution_count": 20,
          "metadata": {},
          "output_type": "execute_result"
        }
      ],
      "source": [
        "#Obtenemos el limite superior y el límite inferior de la columna objetivo\n",
        "Max=Micro_Retailer['_latitude'].max()\n",
        "Min=Micro_Retailer['_latitude'].min()\n",
        "Limites= [Min, Max]\n",
        "Limites"
      ]
    },
    {
      "cell_type": "code",
      "execution_count": 21,
      "metadata": {},
      "outputs": [
        {
          "data": {
            "text/plain": [
              "0.07596380000000025"
            ]
          },
          "execution_count": 21,
          "metadata": {},
          "output_type": "execute_result"
        }
      ],
      "source": [
        "#Calculamos el rango R\n",
        "R=Max-Min\n",
        "R"
      ]
    },
    {
      "cell_type": "code",
      "execution_count": 22,
      "metadata": {},
      "outputs": [
        {
          "data": {
            "text/plain": [
              "8.41354708650195"
            ]
          },
          "execution_count": 22,
          "metadata": {},
          "output_type": "execute_result"
        }
      ],
      "source": [
        "#Calculamos el número de Intervalos de Clase \"ni\", aplicando la regla de Sturges\n",
        "ni= 1+3.32*np.log10(n)\n",
        "ni"
      ]
    },
    {
      "cell_type": "code",
      "execution_count": 20,
      "metadata": {},
      "outputs": [
        {
          "data": {
            "text/plain": [
              "0.009028748424296662"
            ]
          },
          "execution_count": 20,
          "metadata": {},
          "output_type": "execute_result"
        }
      ],
      "source": [
        "#Calculamos el Ancho del Intervalo \"i\"\n",
        "i=R/ni\n",
        "i"
      ]
    },
    {
      "cell_type": "markdown",
      "metadata": {},
      "source": [
        "**Creación de Categorias a partir de clases**"
      ]
    },
    {
      "cell_type": "code",
      "execution_count": 23,
      "metadata": {},
      "outputs": [
        {
          "data": {
            "text/plain": [
              "array([18.9993094, 19.0088049, 19.0183004, 19.0277959, 19.0372914,\n",
              "       19.0467869, 19.0562824, 19.0657779, 19.0752734])"
            ]
          },
          "execution_count": 23,
          "metadata": {},
          "output_type": "execute_result"
        }
      ],
      "source": [
        "#Categorización de variables\n",
        "#Declaramos 2 intervalos (menores de 100) y (mayores de 100)\n",
        "#Ajustamos los limites para que todos los valores sean incluidos en los intervalos\n",
        "intervalos=np.linspace(18.9993094, 19.0752734, 9)\n",
        "intervalos"
      ]
    },
    {
      "cell_type": "code",
      "execution_count": 24,
      "metadata": {},
      "outputs": [],
      "source": [
        "#Creamos las categorías \n",
        "categorias= [\"Categoría1\", \"Categoría2\",\"Categoría3\", \"Categoría4\",\n",
        "             \"Categoría5\", \"Categoría6\",\"Categoría7\", \"Categoría8\"]"
      ]
    },
    {
      "cell_type": "code",
      "execution_count": null,
      "metadata": {},
      "outputs": [],
      "source": [
        "#Finalmente creamos las categorías en la columna numérica\n",
        "Micro_Retailer['_latitude']=pd.cut(x= Micro_Retailer['_latitude'], bins=intervalos, labels= categorias )\n",
        "Micro_Retailer['_latitude']"
      ]
    }
  ],
  "metadata": {
    "colab": {
      "authorship_tag": "ABX9TyNHlbB4kN9BmzXOkXW/nCS1",
      "include_colab_link": true,
      "provenance": []
    },
    "kernelspec": {
      "display_name": "Python 3",
      "name": "python3"
    },
    "language_info": {
      "codemirror_mode": {
        "name": "ipython",
        "version": 3
      },
      "file_extension": ".py",
      "mimetype": "text/x-python",
      "name": "python",
      "nbconvert_exporter": "python",
      "pygments_lexer": "ipython3",
      "version": "3.12.4"
    }
  },
  "nbformat": 4,
  "nbformat_minor": 0
}
